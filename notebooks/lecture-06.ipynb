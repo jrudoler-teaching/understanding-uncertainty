{
 "cells": [
  {
   "cell_type": "raw",
   "id": "3706c985",
   "metadata": {
    "vscode": {
     "languageId": "raw"
    }
   },
   "source": [
    "---\n",
    "title: \"Lecture 06: Confidence Intervals and Bootstrapping\"\n",
    "date: \"now\"\n",
    "format: \n",
    "    live-html:\n",
    "        toc: true\n",
    "        toc-location: right\n",
    "        code-fold: true\n",
    "        code-tools: true\n",
    "        code-summary: \"Code\"\n",
    "        code-block-name: \"Code\"\n",
    "pyodide:\n",
    "  packages:\n",
    "    - matplotlib\n",
    "    - numpy\n",
    "execute:\n",
    "    warning: false\n",
    "---"
   ]
  },
  {
   "cell_type": "code",
   "execution_count": null,
   "id": "6cad808f",
   "metadata": {},
   "outputs": [],
   "source": [
    "# | hidden: true\n",
    "# | echo: false\n",
    "import numpy as np\n",
    "import pandas as pd\n",
    "import matplotlib.pyplot as plt\n",
    "import seaborn as sns\n",
    "\n",
    "# some personal style settings to make the plots look nice\n",
    "# and save some space in the notebook\n",
    "plt.style.use(\"../style.mplstyle\")"
   ]
  }
 ],
 "metadata": {
  "kernelspec": {
   "display_name": "understanding-uncertainty-vC6A7Gjf-py3.12",
   "language": "python",
   "name": "python3"
  },
  "language_info": {
   "codemirror_mode": {
    "name": "ipython",
    "version": 3
   },
   "file_extension": ".py",
   "mimetype": "text/x-python",
   "name": "python",
   "nbconvert_exporter": "python",
   "pygments_lexer": "ipython3",
   "version": "3.12.4"
  }
 },
 "nbformat": 4,
 "nbformat_minor": 5
}
