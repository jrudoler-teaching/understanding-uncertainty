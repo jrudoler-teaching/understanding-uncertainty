{
 "cells": [
  {
   "cell_type": "raw",
   "id": "66294912",
   "metadata": {
    "vscode": {
     "languageId": "raw"
    }
   },
   "source": [
    "---\n",
    "title: \"Lecture 01: Programming Basics, Data Structures, and Data Manipulation\"\n",
    "author: \"Joseph Rudoler\"\n",
    "affiliation: \"University of Pennsylvania\"\n",
    "date: \"now\"\n",
    "reference-location: margin\n",
    "citation-location: margin\n",
    "code-annotations: hover\n",
    "pyodide:\n",
    "  packages:\n",
    "    - matplotlib\n",
    "    - numpy\n",
    "    - seaborn\n",
    "execute:\n",
    "    warning: false\n",
    "other-links: \n",
    "    - text: Lecture Slides\n",
    "      href: slides/lecture-01-slides.html\n",
    "      icon: file-slides\n",
    "    - text: Assignment 01\n",
    "      href: assignments/assignment-01.html\n",
    "      icon: file-code\n",
    "---"
   ]
  },
  {
   "cell_type": "code",
   "execution_count": 1,
   "id": "e281e226",
   "metadata": {},
   "outputs": [],
   "source": [
    "#| hidden: true\n",
    "#| echo: false\n",
    "import numpy as np\n",
    "import pandas as pd\n",
    "import matplotlib.pyplot as plt\n",
    "# some personal style settings to make the plots look nice\n",
    "# and save some space in the notebook\n",
    "plt.style.use(\"../style.mplstyle\")"
   ]
  },
  {
   "cell_type": "markdown",
   "id": "bcba8aa2",
   "metadata": {},
   "source": [
    "This lecture will be, intentionally, a bit of a whirlwind. That's because with the advent of large language models (LLMs) like ChatGPT, Claude, Gemini, etc. knowing how to program in specific languages like Python is becoming less important. You don't need that much practice or to focus on the syntax of a specific language. \n",
    "\n",
    "Instead, the important thing is to understand the core concepts involved in programming, which are largely universal across languages. This high-level understanding will allow you to use LLMs effectively to write code in any language, including Python. If you don't understand the concepts, you won't be able to identify when the LLM is making mistakes or producing suboptimal code."
   ]
  },
  {
   "cell_type": "markdown",
   "id": "7e386446",
   "metadata": {},
   "source": [
    "## Variables and types\n",
    "\n",
    "Variables are used to store data in a program. They can hold different types of data, such as numbers, strings (text), lists, and more. \n",
    "\n",
    ":::{.callout-note title=\"Functions act on variables\"}\n",
    "Functions in programming are designed to operate on variables. They take input (variables), perform some operations, and return output. Understanding how variables work is crucial for effectively using functions.\n",
    "\n",
    "We'll explore functions in more detail later ([Functions](#functions-and-functional-programming)), but for now, remember that functions are named blocks of code that manipulate variables to achieve specific tasks.\n",
    "\n",
    "Some functions are built-in, meaning they are provided by the programming language itself, while others can be defined by the user. Built-in functions in Python include `print()` for displaying output, as well as `type()` for checking the type of a variable.\n",
    ":::\n",
    "\n",
    "It is both useful and pretty accurate to think of programmatic variables in the same way you think of algebraic variables in math. You can assign or change the value of a variable, and you can use it in calculations or operations.\n",
    "\n",
    "You can create a variable by assigning it a value using the equals sign (`=`). \n",
    "\n",
    "For example, if you create a variable `x` that holds the value `5`, you can use it in calculations like this:\n",
    "\n",
    "```python\n",
    "x = 5\n",
    "y = x + 3\n",
    "print(y)  # Output: 8\n",
    "```\n",
    "\n",
    "The following table describes some common variable types:\n",
    "\n",
    "| Variable Type | Description |\n",
    "|------|----------------|\n",
    "| Integer (`int`)      | Whole numbers, e.g., `5`, `-3`, `42` |\n",
    "| Float (`float`)        | Decimal numbers, e.g., `3.14`, `-0.001`, `2.0` |\n",
    "| String (`str`)        | Textual data, e.g., `\"Hello, world!\"`, `'Python'` |\n",
    "| List (`list`)         | Ordered collection of items, e.g., `[1, 2, 3]`, `['a', 'b', 'c']` |\n",
    "| Dictionary (`dict`)    | Key-value pairs, e.g., `{'name': 'Alice', 'age': 30}` |\n",
    "| Boolean (`bool`)       | True or False values, e.g., `True`, `False` |\n",
    "\n",
    "We will discuss a few important ones in more detail\n",
    "\n",
    "::: {.callout-note title=\"Everything is an object\"}\n",
    "In Python, everything is an object. This means that even basic data types like integers and strings are treated as objects with methods and properties. For example, you can call methods on a string object to manipulate it, like `my_string.upper()` to convert it to uppercase.\n",
    "\n",
    "See the later section on [Object-Oriented Programming](#object-oriented-programming) for more details.\n",
    ":::\n",
    "\n",
    "### Typecasting\n",
    "Typecasting is the process of converting a variable from one type to another. Not all type conversions are allowed, but some common ones include:\n",
    "\n",
    "| From Type | To Type | Example |\n",
    "|:----|:-----|:-----------------------|\n",
    "| Integer   | Float   | `float(5)` → `5.0` |\n",
    "| Float     | Integer | `int(3.14)` → `3` |\n",
    "| String    | Integer | `int('42')` → `42` |\n",
    "| String    | Float   | `float('3.14')` → `3.14` |\n",
    "| List      | String  | `''.join(['S', 'h', 'a', 'l', 'o', 'm'])` → `'Shalom'` |\n",
    "| String    | List    | `list('Shalom')` → `['S', 'h', 'a', 'l', 'o', 'm']` |\n",
    "| Boolean   | Integer | `int(True)` → `1`, `int(False)` → `0` |\n",
    "| Integer   | Boolean | `bool(1)` → `True`, `bool(0)` → `False`, `bool(-1)` → `True` |\n",
    "\n",
    "There are also some implicit type conversions that happen automatically in Python, such as when you perform arithmetic operations between integers and floats. For example:"
   ]
  },
  {
   "cell_type": "code",
   "execution_count": 2,
   "id": "00159f37",
   "metadata": {},
   "outputs": [
    {
     "data": {
      "text/plain": [
       "(7.0, float)"
      ]
     },
     "execution_count": 2,
     "metadata": {},
     "output_type": "execute_result"
    }
   ],
   "source": [
    "x = 5        # Integer\n",
    "y = 2.0      # Float\n",
    "result = x + y  # Implicit conversion to float\n",
    "result, type(result)  # result is now a float"
   ]
  },
  {
   "cell_type": "markdown",
   "id": "8cf10d0a",
   "metadata": {},
   "source": [
    "## Lists\n",
    "We often need to store multiple values together. The most basic way to achieve this is with a list. A list is an ordered collection of items that can be of any type, including other lists. \"Ordered\" means that the items have a specific sequence, and you can access them by their position (index) in the list.\n",
    "\n",
    "In Python, you can create a list using square brackets `[]`. For example:"
   ]
  },
  {
   "cell_type": "code",
   "execution_count": 3,
   "id": "1661badc",
   "metadata": {},
   "outputs": [
    {
     "name": "stdout",
     "output_type": "stream",
     "text": [
      "1\n"
     ]
    }
   ],
   "source": [
    "#| code-fold : false\n",
    "my_list = [1, 2, 3, 'apple', 'banana']\n",
    "print(my_list[0])  # <1>"
   ]
  },
  {
   "cell_type": "markdown",
   "id": "75c0260d",
   "metadata": {},
   "source": [
    "1. A code annotation\n",
    "\n",
    "You can access items in a list using their index (a number specifying their position). In Python, **indexing starts at 0**, so `my_list[0]` refers to the first item in the list.\n",
    "\n",
    "Indexing also works with negative numbers, which count from the end of the list. For example, `my_list[-1]` refers to the last item in the list.\n",
    "\n",
    "The syntax for retrieving indexes is `my_list[start:end:step]`, where `start` is the index to start from, `end` is the index to stop before, and `step` is the interval between items. If you omit `start`, it defaults to 0; if you omit `end`, it defaults to the end of the list; and if you omit `step`, it defaults to 1.\n"
   ]
  },
  {
   "cell_type": "code",
   "execution_count": 4,
   "id": "2d99f152",
   "metadata": {},
   "outputs": [
    {
     "name": "stdout",
     "output_type": "stream",
     "text": [
      "[1, 2, 3]\n",
      "['apple', 'banana']\n",
      "[1, 3, 'banana']\n",
      "['banana', 'apple', 3, 2, 1]\n"
     ]
    }
   ],
   "source": [
    "#| code-fold : show\n",
    "print(my_list[:3]) # first three elements\n",
    "print(my_list[3:]) # from the fourth element to the end\n",
    "print(my_list[::2]) # every other\n",
    "print(my_list[::-1])  # reverse the list"
   ]
  },
  {
   "cell_type": "markdown",
   "id": "5df74feb",
   "metadata": {},
   "source": [
    "\n",
    "You can also modify lists by adding or removing items. For example:"
   ]
  },
  {
   "cell_type": "code",
   "execution_count": 5,
   "id": "b55abc47",
   "metadata": {},
   "outputs": [
    {
     "name": "stdout",
     "output_type": "stream",
     "text": [
      "[1, 2, 3, 'apple', 'banana', 'orange']\n"
     ]
    }
   ],
   "source": [
    "#| code-fold : show\n",
    "my_list.append('orange')  # Adds 'orange' to the end of the list\n",
    "print(my_list)  # Output: [1, 2, 3, 'apple', 'banana', 'orange']\n"
   ]
  },
  {
   "cell_type": "markdown",
   "id": "ff5a4e33",
   "metadata": {},
   "source": [
    "## Arrays (NumPy)\n",
    "While lists are flexible, they can be inefficient and unreliable for many numerical operations. Arrays, provided by the core library `numpy`, enforce a single data type and are optimized for numerical computations. They also have lots of built-in functionality for mathematical operations. \n",
    "\n",
    ":::{.callout-note title=\"Packages\" collapse=\"true\"}\n",
    "There is only so much functionality that can be included in a core programming language. To keep the language simple, many advanced features are provided through external packages.  \n",
    "\n",
    "Packages are collections of pre-written code that you can import into your program to use their features. When you want to use a package, you typically import it at the beginning of your script. For example, to use NumPy, you would write:\n",
    "\n",
    "```python\n",
    "import numpy as np\n",
    "```\n",
    "`np` is now what we call an alias, a shorthand for referring to the NumPy package. \n",
    "\n",
    "Now any time you want to use a function (we'll discuss functions in detail later) from NumPy, you can do so by prefixing it with `np.`. For example, we'll see how to create a NumPy array below using `np.array()`.\n",
    "\n",
    ":::\n",
    "\n",
    "You can create a NumPy array using the `numpy.array()` command. For example:\n"
   ]
  },
  {
   "cell_type": "code",
   "execution_count": 6,
   "id": "51ec0e37",
   "metadata": {},
   "outputs": [
    {
     "name": "stdout",
     "output_type": "stream",
     "text": [
      "[1 2 3 4 5]\n"
     ]
    }
   ],
   "source": [
    "#| code-fold : show\n",
    "import numpy as np\n",
    "my_array = np.array([1, 2, 3, 4, 5])\n",
    "print(my_array)  "
   ]
  },
  {
   "cell_type": "markdown",
   "id": "ad5e64c0",
   "metadata": {},
   "source": [
    "\n",
    "You can perform mathematical operations on NumPy arrays, and they will be applied element-wise. For example:\n",
    "\n"
   ]
  },
  {
   "cell_type": "code",
   "execution_count": 7,
   "id": "36a379a8",
   "metadata": {},
   "outputs": [
    {
     "name": "stdout",
     "output_type": "stream",
     "text": [
      "[ 1  4  9 16 25]\n"
     ]
    }
   ],
   "source": [
    "#| code-fold : show\n",
    "my_array_squared = my_array ** 2\n",
    "print(my_array_squared)  "
   ]
  },
  {
   "cell_type": "markdown",
   "id": "5bea5d65",
   "metadata": {},
   "source": [
    "You can't have mixed data types in a NumPy array, so if you try to create an array with both numbers and strings, it will convert everything to strings:"
   ]
  },
  {
   "cell_type": "code",
   "execution_count": 8,
   "id": "ea2c39e1",
   "metadata": {},
   "outputs": [
    {
     "name": "stdout",
     "output_type": "stream",
     "text": [
      "['1' 'two' '3.0']\n"
     ]
    }
   ],
   "source": [
    "#| code-fold : show\n",
    "mixed_array = np.array([1, 'two', 3.0])\n",
    "print(mixed_array)  # Output: ['1' 'two' '3.0']"
   ]
  },
  {
   "cell_type": "markdown",
   "id": "2a6fcb72",
   "metadata": {},
   "source": [
    "Typecasting works in NumPy arrays as well via the `astype()` method. "
   ]
  },
  {
   "cell_type": "code",
   "execution_count": 19,
   "id": "68e6e980",
   "metadata": {},
   "outputs": [
    {
     "data": {
      "text/plain": [
       "array([1, 2, 3, 4])"
      ]
     },
     "execution_count": 19,
     "metadata": {},
     "output_type": "execute_result"
    }
   ],
   "source": [
    "np.array([1, 2, 3, 4.1], dtype=float).astype(int)  # Convert float array to int array"
   ]
  },
  {
   "cell_type": "markdown",
   "id": "9a051b6e",
   "metadata": {},
   "source": [
    "### Advanced indexing\n",
    "NumPy arrays support complex indexing, allowing you to access and manipulate specific elements or subarrays efficiently.\n",
    "\n",
    "You can actually use arrays to index other arrays, which is a powerful feature. This allows you to select specific elements based on conditions or patterns. "
   ]
  },
  {
   "cell_type": "code",
   "execution_count": 9,
   "id": "541ea89f",
   "metadata": {},
   "outputs": [
    {
     "name": "stdout",
     "output_type": "stream",
     "text": [
      "[ 1  2  3  4  5  6  7  8  9 10]\n",
      "[2 2 4 5]\n"
     ]
    }
   ],
   "source": [
    "my_array = np.arange(1, 11)\n",
    "print(my_array) \n",
    "# grab specific elements\n",
    "idx = [1, 1, 3, 4]\n",
    "print(my_array[idx])"
   ]
  },
  {
   "cell_type": "markdown",
   "id": "5a0effb7",
   "metadata": {},
   "source": [
    "\n",
    "\n",
    "One important feature is boolean indexing, where you can use a boolean array to select elements from another array. This lets you filter data based on conditions. For example:"
   ]
  },
  {
   "cell_type": "code",
   "execution_count": 10,
   "id": "f50cbc95",
   "metadata": {},
   "outputs": [
    {
     "name": "stdout",
     "output_type": "stream",
     "text": [
      "Original array: [ 1  2  3  4  5  6  7  8  9 10]\n",
      "Boolean mask: [False False  True  True  True  True  True  True  True  True]\n",
      "Filtered array: [ 3  4  5  6  7  8  9 10]\n"
     ]
    }
   ],
   "source": [
    "#| code-fold : show\n",
    "my_array = np.arange(1, 11)  # Creates a NumPy array with values from 1 to 10\n",
    "print(\"Original array:\", my_array)\n",
    "# Create a boolean array where elements are greater than 2\n",
    "boolean_mask = my_array > 2\n",
    "print(\"Boolean mask:\", boolean_mask)\n",
    "# Use the boolean mask to filter the array\n",
    "filtered_array = my_array[boolean_mask]\n",
    "print(\"Filtered array:\", filtered_array) "
   ]
  },
  {
   "cell_type": "markdown",
   "id": "e6f84193",
   "metadata": {},
   "source": [
    "## Dictionaries\n",
    "\n",
    "Sometimes a list or array is not enough. You may want to store data in a way that allows you to access it by a keyword rather than by an index. For example, I might have a list of people and their ages, but I want to be able to look up a person's age by their name. In this case, I can use a dictionary.\n",
    "\n",
    "We can create a dictionary using curly braces `{}` and separating keys and values with a colon `:`. Here's an example:\n"
   ]
  },
  {
   "cell_type": "code",
   "execution_count": 11,
   "id": "fc0359bb",
   "metadata": {},
   "outputs": [],
   "source": [
    "#| code-fold : false\n",
    "name_age_dict = {\n",
    "    \"Alice\": 30,\n",
    "    \"Bob\": 25,\n",
    "    \"Charlie\": 35\n",
    "}\n"
   ]
  },
  {
   "cell_type": "markdown",
   "id": "704a5286",
   "metadata": {},
   "source": [
    "In order to access a value in a dictionary, we use the key in square brackets `[]`. Here's how you can do that:"
   ]
  },
  {
   "cell_type": "code",
   "execution_count": 12,
   "id": "e11c054b",
   "metadata": {},
   "outputs": [
    {
     "data": {
      "text/plain": [
       "25"
      ]
     },
     "execution_count": 12,
     "metadata": {},
     "output_type": "execute_result"
    }
   ],
   "source": [
    "#| code-fold : false\n",
    "name_age_dict[\"Bob\"] # this will print Bob's age"
   ]
  },
  {
   "cell_type": "markdown",
   "id": "7fea42ca",
   "metadata": {},
   "source": [
    "The \"value\" in a dictionary can be of any type, including another dictionary or a list. This allows for building up complex data structures that contain named entities and their associated data.\n",
    "\n",
    "For example, you might have a dictionary that contains different types of data about a person."
   ]
  },
  {
   "cell_type": "code",
   "execution_count": 13,
   "id": "b27a0e38",
   "metadata": {},
   "outputs": [],
   "source": [
    "#| code-fold : false\n",
    "name_age_list_dict = {\n",
    "    'Name': ['Alice', 'Bob', 'Charlie'],\n",
    "    'Age': [25, 30, 35],\n",
    "}\n"
   ]
  },
  {
   "cell_type": "markdown",
   "id": "c5759dcc",
   "metadata": {
    "vscode": {
     "languageId": "raw"
    }
   },
   "source": [
    "## Dataframes\n",
    "\n",
    "Most of the time, data scientists work with *tabular data* (data organized in tables with rows and columns). \n",
    "Think of the data you typically see in spreadsheets -- rows represent individual records, and columns represent attributes of those records.\n",
    "\n",
    "In Python, the most common way to work with tabular data is through the `pandas` library, which provides a powerful data structure called a DataFrame."
   ]
  },
  {
   "cell_type": "code",
   "execution_count": 14,
   "id": "fd061ba4",
   "metadata": {},
   "outputs": [
    {
     "data": {
      "text/html": [
       "<div>\n",
       "<style scoped>\n",
       "    .dataframe tbody tr th:only-of-type {\n",
       "        vertical-align: middle;\n",
       "    }\n",
       "\n",
       "    .dataframe tbody tr th {\n",
       "        vertical-align: top;\n",
       "    }\n",
       "\n",
       "    .dataframe thead th {\n",
       "        text-align: right;\n",
       "    }\n",
       "</style>\n",
       "<table border=\"1\" class=\"dataframe\">\n",
       "  <thead>\n",
       "    <tr style=\"text-align: right;\">\n",
       "      <th></th>\n",
       "      <th>Name</th>\n",
       "      <th>Age</th>\n",
       "      <th>Height (cm)</th>\n",
       "      <th>Weight (kg)</th>\n",
       "      <th>City</th>\n",
       "    </tr>\n",
       "  </thead>\n",
       "  <tbody>\n",
       "    <tr>\n",
       "      <th>0</th>\n",
       "      <td>Alice</td>\n",
       "      <td>25</td>\n",
       "      <td>165</td>\n",
       "      <td>55.1</td>\n",
       "      <td>New York</td>\n",
       "    </tr>\n",
       "    <tr>\n",
       "      <th>1</th>\n",
       "      <td>Bob</td>\n",
       "      <td>30</td>\n",
       "      <td>180</td>\n",
       "      <td>80.5</td>\n",
       "      <td>Los Angeles</td>\n",
       "    </tr>\n",
       "    <tr>\n",
       "      <th>2</th>\n",
       "      <td>Charlie</td>\n",
       "      <td>35</td>\n",
       "      <td>175</td>\n",
       "      <td>70.2</td>\n",
       "      <td>Chicago</td>\n",
       "    </tr>\n",
       "  </tbody>\n",
       "</table>\n",
       "</div>"
      ],
      "text/plain": [
       "      Name  Age  Height (cm)  Weight (kg)         City\n",
       "0    Alice   25          165         55.1     New York\n",
       "1      Bob   30          180         80.5  Los Angeles\n",
       "2  Charlie   35          175         70.2      Chicago"
      ]
     },
     "execution_count": 14,
     "metadata": {},
     "output_type": "execute_result"
    }
   ],
   "source": [
    "#| echo: true\n",
    "#| code-fold: show\n",
    "import pandas as pd\n",
    "# Create a DataFrame with sample data\n",
    "df = pd.DataFrame({\n",
    "    'Name': ['Alice', 'Bob', 'Charlie'],\n",
    "    'Age': [25, 30, 35],\n",
    "    'Height (cm)': [165, 180, 175],\n",
    "    'Weight (kg)': [55.1, 80.5, 70.2],\n",
    "    'City': ['New York', 'Los Angeles', 'Chicago']\n",
    "})\n",
    "df"
   ]
  },
  {
   "cell_type": "markdown",
   "id": "5cb1162a",
   "metadata": {},
   "source": [
    "One import thing to realize about DataFrames that each column can have a different data type. For example, one column might contain integers, another might contain strings, and yet another might contain floating-point numbers.\n",
    "\n",
    "However, all the values in a single column *should* be of the same type. Intuitively: since columns represent attributes, every value in a column should represent the same kind of information. It wouldn't make sense if the \"city\" column of a DataFrame contained both \"New York\" (a string) and 42 (an integer).\n",
    "\n",
    "Note that this rule isn't necessarily enforced by the DataFrame structure itself, but it's a good practice to follow. Otherwise, you might run into issues when performing operations on the DataFrame.\n"
   ]
  },
  {
   "cell_type": "code",
   "execution_count": 15,
   "id": "48a75679",
   "metadata": {},
   "outputs": [
    {
     "data": {
      "text/plain": [
       "0                                   75\n",
       "1                                   90\n",
       "2    Thirty-FiveThirty-FiveThirty-Five\n",
       "Name: Age, dtype: object"
      ]
     },
     "execution_count": 15,
     "metadata": {},
     "output_type": "execute_result"
    }
   ],
   "source": [
    "#| code-fold: show\n",
    "bad_df = pd.DataFrame({\n",
    "    'Name': ['Alice', 'Bob', 'Charlie'],\n",
    "    'Age': [25, 30, 'Thirty-Five'],  # Mixed types in the 'Age' column\n",
    "})\n",
    "\n",
    "bad_df[\"Age\"] * 3\n"
   ]
  },
  {
   "cell_type": "markdown",
   "id": "6b80c15d",
   "metadata": {},
   "source": [
    "## Conditional logic\n",
    "\n",
    "Conditional logic allows you to make decisions in your code based on certain conditions. This is essential for controlling the flow of your program and executing different actions based on different situations.\n",
    "\n",
    "### If-elif-else statements\n",
    "The most common way to implement conditional logic is through `if`, `elif`, and `else` statements:\n",
    "\n",
    "| Statement Type | Description |\n",
    "|----------------|-------------|\n",
    "| `if`           | Checks a condition and executes the block if it's true. |\n",
    "| `elif`         | Checks another condition if the previous `if` or `elif` was false. |\n",
    "| `else`         | Executes a block if all previous conditions were false. |\n",
    "\n",
    "Here's an example of how to use these statements. Play around with the code below to see how it works. You can change the value of `age` to see how the output changes based on different conditions.\n",
    "\n",
    "```{pyodide}\n",
    "age = #TODO: Set your age here\n",
    "if age < 18:\n",
    "    print(\"You are a minor.\")\n",
    "elif age < 65:\n",
    "    print(\"You are an adult.\")\n",
    "elif age >= 120:\n",
    "    print(\"You've done your time, haven't you?\")\n",
    "else:\n",
    "    print(\"You are a senior citizen.\")\n",
    "```\n",
    "\n",
    "Note that the `elif` and `else` statements are optional. You can have just an `if` statement, which will execute a block of code if the condition is true and skip it if the condition is false.\n",
    "\n",
    "::: {.callout-tip  title=\"Boolean expressions\" collapse=\"true\"}\n",
    "Boolean expressions are conditions that evaluate to either `True` or `False`. They are often used in `if` statements to control the flow of the program. Common operators for creating Boolean expressions include:\n",
    "\n",
    "| Operator | Description |\n",
    "|----------|-------------|\n",
    "| `==`     | Equal to    |\n",
    "| `!=`     | Not equal to|\n",
    "| `<`      | Less than   |\n",
    "| `<=`     | Less than or equal to |\n",
    "| `>`      | Greater than |\n",
    "| `>=`     | Greater than or equal to |\n",
    "| `and` , `&`   | Logical AND  |\n",
    "| `or`, `|`     | Logical OR   |\n",
    "| `not` , `~`   | Logical NOT  |\n",
    "\n",
    ":::"
   ]
  },
  {
   "cell_type": "markdown",
   "id": "db08a150",
   "metadata": {},
   "source": [
    "## Loops\n",
    "\n",
    "Loops are special constructs that allow you to repeat a block of code multiple times in sequence. They are useful when you want to perform the same operation on multiple items, such as iterating over a list or processing each row in a DataFrame.\n",
    "\n",
    "The two most common types of loops are `for` loops and `while` loops.\n",
    "\n",
    "### For Loops\n",
    "A `for` loop iterates over a sequence (like a list or a string) and executes a block of code for each item in that sequence. Here's an example:\n",
    "```python\n",
    "my_list = [1, 2, 3, 4, 5]\n",
    "for item in my_list:\n",
    "    print(item)\n",
    "```\n",
    "This will print each item in `my_list` one by one.\n",
    "\n",
    ":::{.callout-note title=\"Useful Python functions: range() and enumerate()\"}\n",
    "In Python, the `range()` function generates a sequence of numbers, which is often used in `for` loops. For example, `range(5)` generates the numbers 0 to 4.\n",
    "The `enumerate()` function is useful when you need both the index and the value of items in a list. It returns pairs of (index, value) for each item in the list. For example:\n",
    "```python\n",
    "my_list = ['a', 'b', 'c']\n",
    "for index, value in enumerate(my_list):\n",
    "    print(f\"Index: {index}, Value: {value}\")\n",
    "```\n",
    ":::\n",
    "\n",
    "### While Loops\n",
    "A `while` loop continues to execute a block of code as long as a specified condition is true. Here's an example:\n",
    "```python\n",
    "count = 0\n",
    "while count < 5:\n",
    "    print(count)\n",
    "    count += 1 # Increment the count\n",
    "```\n",
    "This will print the numbers 0 to 4, incrementing `count` by 1 each time until the condition `count < 5` is no longer true."
   ]
  },
  {
   "cell_type": "markdown",
   "id": "b555a796",
   "metadata": {},
   "source": [
    "## Functions and functional programming\n",
    "\n",
    "Functions are reusable blocks of code that perform a specific task. They allow you to organize your code into logical sections, making it easier to read, maintain, and reuse.\n",
    "\n",
    "They work like functions in math: you can pass inputs (arguments) to a function, and it will return an output (result).\n",
    "You can define a function in Python using the `def` keyword, followed by the function name and parentheses containing any parameters. Here's an example:\n",
    "\n",
    "```python\n",
    "def add_numbers(a, b):\n",
    "    \"\"\"Adds two numbers and returns the result.\"\"\"\n",
    "    return a + b\n",
    "result = add_numbers(3, 5)\n",
    "print(result)  # Output: 8\n",
    "```\n",
    "Functions can also have default values for parameters, which allows you to call them with fewer arguments than defined. For example:\n",
    "\n",
    "```python\n",
    "def greet(name=\"World\"):\n",
    "    \"\"\"Greets the specified name or 'World' by default.\"\"\"\n",
    "    return f\"Hello, {name}!\"\n",
    "print(greet())          # Output: Hello, World!\n",
    "print(greet(\"Alice\"))  # Output: Hello, Alice!\n",
    "```\n",
    "\n",
    "**Functional programming** is a style of programming that treats computer programs as the evaluation of mathematical functions. It is alternatively called **value-oriented programming**[^1] because the output of a program is just the value(s) it produces as a function of its inputs.\n",
    "\n",
    "[^1]: Technically there is a difference between functional programming and value-oriented programming that programming-language nerds care about, but for our purposes, they are the same thing.\n",
    "\n",
    "Probably the core principle of functional programming is to avoid changing state and mutable data. This means that once a value is created, it should not be changed. Instead, you create new values based on existing ones.\n",
    "\n",
    "That means means that functions should not have side effects -- they use data passed to them and return a new value without modifying the input data. This makes it easier to reason about code, as you can understand what a function does just by looking at its inputs and outputs.\n",
    "\n",
    "For example, consider the following two functions for squaring a number:"
   ]
  },
  {
   "cell_type": "code",
   "execution_count": 16,
   "id": "40b82d51",
   "metadata": {},
   "outputs": [
    {
     "name": "stdout",
     "output_type": "stream",
     "text": [
      "Functional: a = [1 3 5], b = [ 1  9 25]\n",
      "Side Effect: a = [-1  3  5], c = [ 1  9 25]\n"
     ]
    }
   ],
   "source": [
    "#| code-fold: show\n",
    "import numpy as np\n",
    "\n",
    "def square_functional(input):\n",
    "    \"\"\"Returns the square of an array\"\"\"\n",
    "    return input ** 2\n",
    "\n",
    "def square_side_effect(input):\n",
    "    \"\"\"Returns the square of an array with a side effect\"\"\"\n",
    "    input[0] = -1\n",
    "    return input ** 2  # This is a side effect, modifying the first element of input\n",
    "\n",
    "a = np.array([1, 3, 5])\n",
    "b = square_functional(a)  # b will be 25, a remains 5\n",
    "print(f\"Functional: a = {a}, b = {b}\")\n",
    "c = square_side_effect(a)  # c will be 25, a will still be 5\n",
    "print(f\"Side Effect: a = {a}, c = {c}\")"
   ]
  },
  {
   "cell_type": "markdown",
   "id": "87477f0f",
   "metadata": {},
   "source": [
    "There are somewhat complicated rules about what objects can be modified in place and what cannot (sometimes Python allows it, sometimes it doesn't), but the general rule is that you should avoid modifying objects in place unless you have a good reason to do so. The main reason is that you might inadvertently change the value of an object that is being used elsewhere in your code, leading to bugs that are hard to track down. Instead, create new objects based on existing ones."
   ]
  },
  {
   "cell_type": "markdown",
   "id": "93731061",
   "metadata": {},
   "source": [
    "## Object-Oriented Programming\n",
    "\n",
    "While you can write programs in Python using just functions, the language is really designed for object-oriented programming (OOP). \n",
    "OOP is a style of programming built around the concept of \"objects\", which are specific instances of classes.\n",
    "\n",
    "A class is like a template for creating new objects. It defines the properties (attributes) and \\\\\n",
    "behaviors (methods) that the objects created from the class will have.\n",
    "\n",
    "To define a class in Python, you use the `class` keyword followed by the class name. \n",
    "Every class should have an `__init__` method, which is a special method that initializes the object when it is created.\n",
    "\n",
    "Here's a simple example of a class:"
   ]
  },
  {
   "cell_type": "code",
   "execution_count": 17,
   "id": "92cd78f8",
   "metadata": {},
   "outputs": [
    {
     "name": "stdout",
     "output_type": "stream",
     "text": [
      "2025-05-06\n",
      "False\n"
     ]
    }
   ],
   "source": [
    "#| code-fold: show\n",
    "class Date():\n",
    "    \"\"\"A simple class to represent a date\"\"\"\n",
    "\n",
    "    # This is the constructor method, called when an instance is created like Date(2025, 5, 6)\n",
    "    def __init__(self, year, month, day):\n",
    "        self.year = year\n",
    "        self.month = month\n",
    "        self.day = day\n",
    "\n",
    "    def __str__(self):\n",
    "        # defined what print() should do\n",
    "        # formats the date as YYYY-MM-DD\n",
    "        return f\"{self.year:04d}-{self.month:02d}-{self.day:02d}\"\n",
    "    \n",
    "    # here is a method that checks if the date is in summer\n",
    "    def is_summer(self):\n",
    "        \"\"\"Check if the date is in summer (June, July, August)\"\"\"\n",
    "        return self.month in [6, 7, 8]\n",
    "\n",
    "# Create an instance of the Date class\n",
    "date_instance = Date(2025, 5, 6)\n",
    "\n",
    "print(date_instance)  # Output: 2025-05-06\n",
    "print(date_instance.is_summer())  # Output: False\n"
   ]
  },
  {
   "cell_type": "markdown",
   "id": "ef171077",
   "metadata": {},
   "source": [
    "Object-oriented programming has a number of advantages, but many of them are really just about organizing code in a way that makes it easier to understand, reuse, and maintain. \n",
    "\n",
    "One of the key features of OOP is **inheritance**, which allows you to create new classes based on existing ones. This means you can define a base class with common attributes and methods, and then create subclasses that inherit from it and add or override functionality.\n",
    "\n",
    "For example, you might inherit from the base class `Date` to create a subclass `HolidayDate` that adds specific attributes or methods related to holidays:\n",
    "\n",
    "```{pyodide}\n",
    "#| setup: true\n",
    "#| exercise: holiday_date\n",
    "class Date:\n",
    "    def __init__(self, year, month, day):\n",
    "        self.year = year\n",
    "        self.month = month\n",
    "        self.day = day\n",
    "\n",
    "    def __str__(self):\n",
    "        return f\"{self.year}-{self.month:02d}-{self.day:02d}\"\n",
    "```\n",
    "\n",
    "```{pyodide}\n",
    "#| exercise: holiday_date\n",
    "class HolidayDate(Date):\n",
    "    def __init__(self, year, month, day, holiday_name):\n",
    "        super().__init__(year, month, day)\n",
    "        # TODO: Add a new attribute for the holiday name\n",
    "\n",
    "    def print_holiday(self):\n",
    "        # TODO: Print the date and the holiday name\n",
    "\n",
    "channukah = HolidayDate(2025, 12, 7, \"Channukah\")\n",
    "print(channukah)  # Output: 2025-12-07\n",
    "channukah.print_holiday()  # Output: Channukah is on 2025-12-07.\n",
    "\n",
    "```\n",
    "\n",
    "\n",
    "::: {.solution exercise=holiday_date}\n",
    "```{python}\n",
    "class HolidayDate(Date):\n",
    "    def __init__(self, year, month, day, holiday_name):\n",
    "        super().__init__(year, month, day)\n",
    "        self.holiday_name = holiday_name\n",
    "\n",
    "    def print_holiday(self):\n",
    "        print(f\"{self.holiday_name} is on {self}.\")\n",
    "```\n",
    ":::\n",
    "\n",
    "\n",
    "This allows you to create specialized versions of a class without duplicating code, making your codebase cleaner and easier to maintain.\n",
    "\n",
    "For the purposes of statistics and data science, classes are mostly useful because they allow you to create custom data structures that can hold both data and methods for manipulating that data. We have already seen this in the context of DataFrames -- the `pandas` library defines a DataFrame class that has methods for manipulating tabular data. By defining and using DataFrame objects, you get access to a wide range of functionality for working with data without having to implement it yourself. For example, you can filter rows, group data, and perform aggregations (like `mean`, `sum`, etc.) using methods defined in the DataFrame class.\n",
    "\n",
    "## Summary\n",
    "In this lecture we covered some of the core programming concepts that are important to understand when working with Python or any other programming language. In today's assignment, you will practice these concepts by writing Python code to solve some problems."
   ]
  }
 ],
 "metadata": {
  "kernelspec": {
   "display_name": "understanding-uncertainty-iVxgN8uU-py3.12",
   "language": "python",
   "name": "python3"
  },
  "language_info": {
   "codemirror_mode": {
    "name": "ipython",
    "version": 3
   },
   "file_extension": ".py",
   "mimetype": "text/x-python",
   "name": "python",
   "nbconvert_exporter": "python",
   "pygments_lexer": "ipython3",
   "version": "3.12.4"
  }
 },
 "nbformat": 4,
 "nbformat_minor": 5
}
