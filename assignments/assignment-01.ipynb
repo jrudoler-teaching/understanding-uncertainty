{
 "cells": [
  {
   "cell_type": "raw",
   "id": "c39ccbac",
   "metadata": {
    "vscode": {
     "languageId": "raw"
    }
   },
   "source": [
    "---\n",
    "title: \"Assignment 00\"\n",
    "date: \"now\"\n",
    "format: \n",
    "    html:\n",
    "        code-links:\n",
    "            - text: \"Open in Colab\"\n",
    "              href: \"https://colab.research.google.com/github/jrudoler-teaching/understanding-uncertainty/blob/main/assignments/assignment-01.ipynb\"\n",
    "              icon: \"laptop\"\n",
    "notebook-view: false\n",
    "---"
   ]
  },
  {
   "cell_type": "markdown",
   "id": "dc0af04b",
   "metadata": {},
   "source": [
    "## Problem 1: Robust addition\n",
    "\n",
    "Write a function that takes in a list of numbers and returns their sum. \n",
    "However, if the list contains any non-numeric values, the function should ignore those values and only sum the numeric ones. \n",
    "The exception is if the non-numeric values can be converted to numeric types (like strings representing numbers), in which case they should be converted and included in the sum.\n",
    "If the list is empty or contains no numeric values, the function should return 0."
   ]
  },
  {
   "cell_type": "code",
   "execution_count": 1,
   "id": "b6d462ef",
   "metadata": {},
   "outputs": [],
   "source": [
    "def robust_addition(numbers : list) -> float:\n",
    "    # TODO: Implement the function to sum only numeric values in the list.\n",
    "    pass"
   ]
  },
  {
   "cell_type": "markdown",
   "id": "a8bc4753",
   "metadata": {},
   "source": [
    "## Problem 3: Palindrome Checker\n",
    "\n",
    "Write a function that checks whether a given string is a palindrome (a word, phrase, number, or other sequence of characters that reads the same forward and backward, ignoring spaces, punctuation, and capitalization). The function should return `True` if the string is a palindrome and `False` otherwise."
   ]
  },
  {
   "cell_type": "code",
   "execution_count": 3,
   "id": "0f7a6250",
   "metadata": {},
   "outputs": [],
   "source": [
    "def is_palindrome(s: str) -> bool:\n",
    "    # TODO: Implement the function to check if the string is a palindrome.\n",
    "    # Ignore spaces, punctuation, and capitalization.\n",
    "    pass"
   ]
  },
  {
   "cell_type": "code",
   "execution_count": null,
   "id": "7e6e3076",
   "metadata": {},
   "outputs": [],
   "source": []
  }
 ],
 "metadata": {
  "kernelspec": {
   "display_name": "understanding-uncertainty-iVxgN8uU-py3.12",
   "language": "python",
   "name": "python3"
  },
  "language_info": {
   "codemirror_mode": {
    "name": "ipython",
    "version": 3
   },
   "file_extension": ".py",
   "mimetype": "text/x-python",
   "name": "python",
   "nbconvert_exporter": "python",
   "pygments_lexer": "ipython3",
   "version": "3.12.4"
  }
 },
 "nbformat": 4,
 "nbformat_minor": 5
}
