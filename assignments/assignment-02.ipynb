{
 "cells": [
  {
   "cell_type": "raw",
   "id": "9f0a3993",
   "metadata": {
    "vscode": {
     "languageId": "raw"
    }
   },
   "source": [
    "---\n",
    "title: \"Assignment 02: Probability\"\n",
    "date: \"now\"\n",
    "format: \n",
    "    html:\n",
    "        code-links:\n",
    "            - text: \"Open in Colab\"\n",
    "              href: \"https://colab.research.google.com/github/jrudoler-teaching/understanding-uncertainty/blob/main/assignments/assignment-02.ipynb\"\n",
    "              icon: \"laptop\"\n",
    "notebook-view: false\n",
    "---"
   ]
  },
  {
   "cell_type": "markdown",
   "id": "6c4336da",
   "metadata": {},
   "source": [
    "\n",
    "Problems adapted from [MIT OpenCourseWare ](https://ocw.mit.edu/courses/18-05-introduction-to-probability-and-statistics-spring-2022/pages/problem-sets/)."
   ]
  },
  {
   "cell_type": "markdown",
   "id": "94787073",
   "metadata": {},
   "source": [
    "This assignment focuses mostly on the mathematical fundamentals of probability. It will have a few programming tasks, but most of the work will \"pen and paper\" style calculations. If you want, you can use Python to help with the calculations, but it is not required."
   ]
  },
  {
   "cell_type": "markdown",
   "id": "8f58a447",
   "metadata": {},
   "source": []
  },
  {
   "cell_type": "markdown",
   "id": "6a3773bc",
   "metadata": {},
   "source": [
    "### Problem 1\n",
    "\n",
    "#### 1a: Layla’s Puppies\n",
    "Our dog Layla had two puppies. The older one is female.\n",
    "\n",
    "What is the probability that both puppies are female?"
   ]
  },
  {
   "cell_type": "markdown",
   "id": "43ab3ab7",
   "metadata": {},
   "source": [
    "#### 1b. Ariel’s Kittens\n",
    "Our cat Ariel had two kittens. At least one of them is male.\n",
    "\n",
    "What is the probability that both kittens are male? Show your work."
   ]
  },
  {
   "cell_type": "markdown",
   "id": "793fac12",
   "metadata": {},
   "source": [
    "### Problem 2: The Blue Taxi\n",
    "\n",
    "In a city with 100 taxis, 1 is blue and 99 are green. A witness reports the hit-and-run taxi was blue. Under test conditions, that witness sees blue cars as blue 99% of the time, and green cars as blue 2% of the time.\n",
    "\n",
    "Explain why seeing blue doesn’t mean the blue taxi is most likely guilty. You may use numbers or a small diagram or table to illustrate your reasoning."
   ]
  },
  {
   "cell_type": "markdown",
   "id": "13027ea2",
   "metadata": {},
   "source": [
    "### 4. Birthday Matches\n",
    "Let \\(n\\) people (not including yourself) each have a birthday \\(\\{1,\\dots,365\\}\\). Assume that each birthday is equally likely, and that the birthdays of different people are independent.\n",
    "\n",
    "1. **Write down** an equation for the probability that **no one** shares your birthday.\n",
    "2. For which \\(n\\) does that probability first drop below 0.5?"
   ]
  },
  {
   "cell_type": "markdown",
   "id": "8e98e8f8",
   "metadata": {},
   "source": [
    "### 5. 6-Card Poker Hands\n",
    "We draw 6 cards from a standard 52-card deck. Two interesting types of hands:\n",
    "\n",
    "- **Two-pair:** two cards of one rank, two of another, and two of two other ranks.\n",
    "- **Three-of-a-kind:** three cards of one rank and three of three other distinct ranks.\n",
    "\n",
    "**Question:**\n",
    "1. Derive the probability of each hand (two-pair vs. three-of-a-kind).\n",
    "2. Which is more likely?"
   ]
  },
  {
   "cell_type": "markdown",
   "id": "071f4fa1",
   "metadata": {},
   "source": [
    "### 6. Non-Transitive Dice\n",
    "Three dice are labeled as follows:\n",
    "\n",
    "- Blue: [3,3,3,3,3,6]\n",
    "- Orange: [1,4,4,4,4,4]\n",
    "- White: [2,2,2,5,5,5]\n",
    "\n",
    "Compute\n",
    "\n",
    "- P(White > Orange)\n",
    "- P(Orange > Blue)\n",
    "- P(Blue > White)\n",
    "\n",
    "Can you order the dice from “best” to “worst” based on these comparisons?"
   ]
  }
 ],
 "metadata": {
  "language_info": {
   "name": "python"
  }
 },
 "nbformat": 4,
 "nbformat_minor": 5
}
