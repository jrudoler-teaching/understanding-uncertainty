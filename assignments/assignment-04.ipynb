{
 "cells": [
  {
   "cell_type": "raw",
   "id": "8b984560",
   "metadata": {
    "vscode": {
     "languageId": "raw"
    }
   },
   "source": [
    "---\n",
    "title: \"Assignment 04: Hypothesis Testing and Bootstrapping\"\n",
    "date: \"now\"\n",
    "format: \n",
    "    html:\n",
    "        code-links:\n",
    "            - text: \"Open in Colab\"\n",
    "              href: \"https://colab.research.google.com/github/jrudoler-teaching/understanding-uncertainty/blob/main/assignments/assignment-03.ipynb\"\n",
    "              icon: \"laptop\"\n",
    "notebook-view: false\n",
    "---"
   ]
  },
  {
   "cell_type": "markdown",
   "id": "6c89e2ad",
   "metadata": {},
   "source": [
    "# Hypothesis testing with flights data\n",
    "\n",
    "This is the least structured problem you have received to date. The goal is for you to explore the given dataset and apply hypothesis testing techniques to turn vague questions into concrete statistical tests.\n",
    "\n",
    "Below is code to import a dataset of flights across the US in January 2025. \n",
    "\n",
    "Think about how you might use this data to design hypothesis tests and answer the following questions:\n",
    "1. Does the time of day affect flight delays?\n",
    "2. Do flights from different airlines have different delay patterns? (Hint: is there a difference in how long flights are delayed, or how often they are delayed?)"
   ]
  },
  {
   "cell_type": "code",
   "execution_count": null,
   "id": "6a704887",
   "metadata": {},
   "outputs": [],
   "source": [
    "import pandas as pd\n",
    "\n",
    "url = (\n",
    "    \"https://www.dropbox.com/scl/fi/\"\n",
    "    \"nnlww9mk1vmevn1lytywr/flights_ontime.csv\"\n",
    "    \"?rlkey=iska1a863ezg640lvd86wgoky&dl=1\"\n",
    ")\n",
    "\n",
    "# 1) read FL_DATE and pull times in as strings\n",
    "time_cols = [\"ARR_TIME\", \"DEP_TIME\", \"CRS_DEP_TIME\", \"CRS_ARR_TIME\"]\n",
    "\n",
    "df = (\n",
    "    pd.read_csv(\n",
    "        url,\n",
    "        parse_dates=[\"FL_DATE\"],\n",
    "        date_format=lambda x: pd.to_datetime(x, format=\"%m/%d/%Y %I:%M:%S %p\"),\n",
    "        dtype={col: str for col in time_cols},  # force them to string\n",
    "    )\n",
    "    .dropna(subset=time_cols)                   # drop rows missing any of the times\n",
    ")\n",
    "\n",
    "# 2) define a one-liner to zero-pad & parse “hhmm”\n",
    "def hhmm_to_time(col):\n",
    "    return (\n",
    "        pd.to_datetime(\n",
    "            col.str.zfill(4),     # “1”→“0001”, “59”→“0059”, “1323”→“1323”\n",
    "            format=\"%H%M\",\n",
    "            errors=\"coerce\"       # invalid → NaT\n",
    "        )\n",
    "        .dt.time                  # extract python datetime.time\n",
    "    )\n",
    "\n",
    "# 3) apply it to all of them in one go\n",
    "df[time_cols] = df[time_cols].apply(hhmm_to_time)"
   ]
  },
  {
   "cell_type": "code",
   "execution_count": null,
   "id": "333fd797",
   "metadata": {},
   "outputs": [],
   "source": []
  }
 ],
 "metadata": {
  "kernelspec": {
   "display_name": "understanding-uncertainty-iVxgN8uU-py3.12",
   "language": "python",
   "name": "python3"
  },
  "language_info": {
   "codemirror_mode": {
    "name": "ipython",
    "version": 3
   },
   "file_extension": ".py",
   "mimetype": "text/x-python",
   "name": "python",
   "nbconvert_exporter": "python",
   "pygments_lexer": "ipython3",
   "version": "3.12.4"
  }
 },
 "nbformat": 4,
 "nbformat_minor": 5
}
