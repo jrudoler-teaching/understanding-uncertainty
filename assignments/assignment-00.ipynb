{
 "cells": [
  {
   "cell_type": "raw",
   "metadata": {
    "vscode": {
     "languageId": "raw"
    }
   },
   "source": [
    "---\n",
    "title: \"Assignment 00\"\n",
    "date: \"now\"\n",
    "format: \n",
    "    html:\n",
    "        code-links:\n",
    "            - text: \"Open in Colab\"\n",
    "              href: \"https://colab.research.google.com/github/jrudoler-teaching/understanding-uncertainty/blob/main/assignments/assignment-00.ipynb\"\n",
    "              icon: \"laptop\"\n",
    "notebook-view: false\n",
    "---"
   ]
  },
  {
   "cell_type": "code",
   "execution_count": null,
   "metadata": {},
   "outputs": [
    {
     "name": "stdout",
     "output_type": "stream",
     "text": [
      "Hello, World!\n"
     ]
    }
   ],
   "source": [
    "#| echo: true\n",
    "#| label: \"hello-world\"\n",
    "print(\"Hello, World!\")"
   ]
  },
  {
   "cell_type": "code",
   "execution_count": null,
   "metadata": {},
   "outputs": [],
   "source": []
  }
 ],
 "metadata": {
  "kernelspec": {
   "display_name": "Python 3",
   "language": "python",
   "name": "python3"
  },
  "language_info": {
   "codemirror_mode": {
    "name": "ipython",
    "version": 3
   },
   "file_extension": ".py",
   "mimetype": "text/x-python",
   "name": "python",
   "nbconvert_exporter": "python",
   "pygments_lexer": "ipython3",
   "version": "3.12.4"
  }
 },
 "nbformat": 4,
 "nbformat_minor": 2
}
